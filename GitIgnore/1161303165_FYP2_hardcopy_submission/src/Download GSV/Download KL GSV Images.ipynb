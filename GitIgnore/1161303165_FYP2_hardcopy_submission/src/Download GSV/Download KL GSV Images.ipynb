{
 "cells": [
  {
   "cell_type": "code",
   "execution_count": 1,
   "metadata": {},
   "outputs": [],
   "source": [
    "# import pandas to process csv file\n",
    "import pandas as pd\n",
    "\n",
    "# import numpy to perform operations\n",
    "import numpy as np"
   ]
  },
  {
   "cell_type": "code",
   "execution_count": 2,
   "metadata": {},
   "outputs": [],
   "source": [
    "KL_GSV = pd.read_csv(\"test_points_KL_unique.csv\")"
   ]
  },
  {
   "cell_type": "code",
   "execution_count": 4,
   "metadata": {},
   "outputs": [],
   "source": [
    "import requests\n",
    "from os import path, makedirs\n",
    "imgSize = '224x224'\n",
    "file_path = \"KL_GSV\"\n",
    "APIkey = \"\"\n",
    "\n",
    "# Download Street View\n",
    "for i in range(len(KL_GSV)):\n",
    "        url = \"https://maps.googleapis.com/maps/api/streetview?size={}&location={},{}&key={}\".format(imgSize,KL_GSV.at[i,'latitude'],KL_GSV.at[i,'longitude'], APIkey)\n",
    "        if not path.isdir('{}'.format(file_path)):\n",
    "            makedirs('{}'.format(file_path))\n",
    "        r = requests.get(url, allow_redirects=True)\n",
    "        open('{}//{}_{}.jpg'.format(file_path, KL_GSV.at[i, 'panoID'], KL_GSV.at[i, 'neighbourhoodID']), 'wb').write(r.content)\n"
   ]
  }
 ],
 "metadata": {
  "kernelspec": {
   "display_name": "Python 3",
   "language": "python",
   "name": "python3"
  },
  "language_info": {
   "codemirror_mode": {
    "name": "ipython",
    "version": 3
   },
   "file_extension": ".py",
   "mimetype": "text/x-python",
   "name": "python",
   "nbconvert_exporter": "python",
   "pygments_lexer": "ipython3",
   "version": "3.7.3"
  }
 },
 "nbformat": 4,
 "nbformat_minor": 2
}
