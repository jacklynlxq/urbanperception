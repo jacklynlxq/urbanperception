{
 "cells": [
  {
   "cell_type": "code",
   "execution_count": 1,
   "metadata": {},
   "outputs": [],
   "source": [
    "# import pandas to process csv file\n",
    "import pandas as pd\n",
    "\n",
    "# import numpy to perform operations\n",
    "import numpy as np"
   ]
  },
  {
   "cell_type": "code",
   "execution_count": 3,
   "metadata": {},
   "outputs": [],
   "source": [
    "multilabelledDF = pd.read_csv(\"D:\\\\FYP\\\\multilabelledDF.csv\")"
   ]
  },
  {
   "cell_type": "code",
   "execution_count": 22,
   "metadata": {},
   "outputs": [],
   "source": [
    "import requests\n",
    "from os import path, makedirs\n",
    "imgSize = '224x224'\n",
    "# heading =  '90'\n",
    "file_path = \"Download_GSV_Multilabelled\"\n",
    "APIkey = \"\"\n",
    "\n",
    "# Download Street View\n",
    "for i in range(687, len(multilabelledDF)):\n",
    "        url = \"https://maps.googleapis.com/maps/api/streetview?size={}&location={},{}&key={}\".format(imgSize,multilabelledDF.at[i,'lat'],multilabelledDF.at[i,'long'], APIkey)\n",
    "        if not path.isdir('{}'.format(file_path)):\n",
    "            makedirs('{}'.format(file_path))\n",
    "        r = requests.get(url, allow_redirects=True)\n",
    "        open('{}//{}_{}.jpg'.format(file_path, i, multilabelledDF.at[i, 'panoID']), 'wb').write(r.content)"
   ]
  }
 ],
 "metadata": {
  "kernelspec": {
   "display_name": "Python 3",
   "language": "python",
   "name": "python3"
  },
  "language_info": {
   "codemirror_mode": {
    "name": "ipython",
    "version": 3
   },
   "file_extension": ".py",
   "mimetype": "text/x-python",
   "name": "python",
   "nbconvert_exporter": "python",
   "pygments_lexer": "ipython3",
   "version": "3.7.3"
  }
 },
 "nbformat": 4,
 "nbformat_minor": 2
}
